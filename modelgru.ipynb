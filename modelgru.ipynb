{
 "cells": [
  {
   "cell_type": "code",
   "execution_count": 1,
   "id": "37b240aa",
   "metadata": {},
   "outputs": [],
   "source": [
    "import yfinance as yf\n",
    "import pandas as pd\n",
    "import numpy as np\n",
    "%matplotlib inline\n",
    "import warnings\n",
    "warnings.filterwarnings('ignore')\n",
    "from sklearn.linear_model import LinearRegression"
   ]
  },
  {
   "cell_type": "code",
   "execution_count": 2,
   "id": "210a21bf",
   "metadata": {},
   "outputs": [
    {
     "name": "stdout",
     "output_type": "stream",
     "text": [
      "Price           Close       High        Low       Open    Volume\n",
      "Ticker            GLD        GLD        GLD        GLD       GLD\n",
      "Date                                                            \n",
      "2004-11-18  44.380001  44.490002  44.070000  44.430000   5992000\n",
      "2004-11-19  44.779999  44.919998  44.470001  44.490002  11655300\n",
      "2004-11-22  44.950001  44.970001  44.740002  44.750000  11996000\n",
      "2004-11-23  44.750000  44.919998  44.720001  44.880001   3169200\n",
      "2004-11-24  45.049999  45.049999  44.790001  44.930000   6105100\n"
     ]
    }
   ],
   "source": [
    "import yfinance as yf\n",
    "\n",
    "# Menggunakan ETF SPDR Gold Trust (GLD) sebagai proxy harga emas\n",
    "df = yf.download('GLD', start='2001-01-01', end='2023-06-27', progress=False)\n",
    "print(df.head())\n"
   ]
  }
 ],
 "metadata": {
  "kernelspec": {
   "display_name": "Python 3",
   "language": "python",
   "name": "python3"
  },
  "language_info": {
   "codemirror_mode": {
    "name": "ipython",
    "version": 3
   },
   "file_extension": ".py",
   "mimetype": "text/x-python",
   "name": "python",
   "nbconvert_exporter": "python",
   "pygments_lexer": "ipython3",
   "version": "3.11.3"
  }
 },
 "nbformat": 4,
 "nbformat_minor": 5
}
